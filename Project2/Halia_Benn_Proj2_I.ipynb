{
 "cells": [
  {
   "cell_type": "markdown",
   "id": "8111a1b4-7a98-4e59-87b7-057516d42c99",
   "metadata": {},
   "source": [
    "**Department of Mathematics <br>\n",
    "College of Arts and Sciences, Howard University <br>\n",
    "MATH 014 (01) – Introduction to Data Science** <br>\n",
    "**Project 2 – Part 1** <br>\n",
    "**Student Name:** Halia Benn <br>\n",
    "**Student ID:** 004001244 <br>\n",
    "**Due date: 04-4-2025**"
   ]
  },
  {
   "cell_type": "markdown",
   "id": "27a081e1-49fe-471b-a92b-277c6429ffdc",
   "metadata": {},
   "source": [
    "---"
   ]
  },
  {
   "cell_type": "markdown",
   "id": "bd6ad0c6-42dd-41be-b95a-6c2a15a437f4",
   "metadata": {},
   "source": [
    "## **Introduction** \n",
    "### **Project Title:** 2000-2023 Global Environmental Trends \n",
    "**Description:** This dataset is a record of Global Warming-related reports from 14 countries between the year 2000 and 2023. This dataset provides the potential for analyzing intricate relationships human impacts, changing conditions of the natural environment, and climate variables, all of which affect the trajectory of the global climate change crisis the entire world is united against. This dataset is helpful for those interested in climate change, environmental impacts, policy, and sustainability."
   ]
  },
  {
   "cell_type": "markdown",
   "id": "4f3ef31f-209a-4fff-a38a-5449f760ce1c",
   "metadata": {},
   "source": [
    "**Source for reference:** \n",
    "https://www.kaggle.com/datasets/adilshamim8/temperature/data"
   ]
  },
  {
   "cell_type": "markdown",
   "id": "0a7a13b4-2923-4eb2-92ca-d63d6f954fb3",
   "metadata": {},
   "source": [
    "---"
   ]
  },
  {
   "cell_type": "markdown",
   "id": "ad02e712-9683-4833-a2c2-c0a54600611b",
   "metadata": {},
   "source": [
    "### **SECTION I: DATASET OVERVIEW AND STRUCTURE**\n",
    "1. What is the shape and structure of the dataset? (Use .shape, .info(), .head(), .tail()) <br> \n",
    "    * **Show first and last few rows of the data set.**\n",
    "    * **Describe the general information of the DataFrame.**"
   ]
  },
  {
   "cell_type": "code",
   "execution_count": 295,
   "id": "4d39fe7f-0d8b-4931-8c65-a67c1a0f4a99",
   "metadata": {},
   "outputs": [
    {
     "name": "stdout",
     "output_type": "stream",
     "text": [
      "Pandas imported as pd.\n",
      "Numpy imported as np.\n"
     ]
    }
   ],
   "source": [
    "# Pandas is a Python library for data manipulation and analysis, helpful for handling tabular, structured data \n",
    "import pandas as pd # import as user-defined \"pd\"\n",
    "print('Pandas imported as pd.')\n",
    "\n",
    "# Numpy is a Python library primarily for numarical calculations\n",
    "import numpy as np  # import as user-defined \"np\"\n",
    "print('Numpy imported as np.')"
   ]
  },
  {
   "cell_type": "code",
   "execution_count": 297,
   "id": "f462c2db-aab4-4ef9-b11d-d66416ccb801",
   "metadata": {},
   "outputs": [
    {
     "name": "stdout",
     "output_type": "stream",
     "text": [
      "Dataset \"temperature.csv\" loaded.\n"
     ]
    }
   ],
   "source": [
    "# Load the dataset with the built-in function pd.read_csv, calling the file by name\n",
    "df = pd.read_csv('temperature.csv') \n",
    "print('Dataset \"temperature.csv\" loaded.')"
   ]
  },
  {
   "cell_type": "code",
   "execution_count": 299,
   "id": "9dac48ca-e0ae-4980-a627-c6438284952f",
   "metadata": {},
   "outputs": [
    {
     "name": "stdout",
     "output_type": "stream",
     "text": [
      "Dimensions of the dataset:\n",
      " (1000, 10)\n"
     ]
    }
   ],
   "source": [
    "# The built-in function pd.shape gives the dimensions of the dataset (rows, columns)\n",
    "print('Dimensions of the dataset:\\n', df.shape) # print the command"
   ]
  },
  {
   "cell_type": "code",
   "execution_count": 301,
   "id": "0b83cb21-1916-40bb-963b-82db8391ef52",
   "metadata": {},
   "outputs": [
    {
     "name": "stdout",
     "output_type": "stream",
     "text": [
      "First and last few rows of the dataset:\n",
      "\n"
     ]
    },
    {
     "data": {
      "text/html": [
       "<div>\n",
       "<style scoped>\n",
       "    .dataframe tbody tr th:only-of-type {\n",
       "        vertical-align: middle;\n",
       "    }\n",
       "\n",
       "    .dataframe tbody tr th {\n",
       "        vertical-align: top;\n",
       "    }\n",
       "\n",
       "    .dataframe thead th {\n",
       "        text-align: right;\n",
       "    }\n",
       "</style>\n",
       "<table border=\"1\" class=\"dataframe\">\n",
       "  <thead>\n",
       "    <tr style=\"text-align: right;\">\n",
       "      <th></th>\n",
       "      <th>Year</th>\n",
       "      <th>Country</th>\n",
       "      <th>Avg_Temperature_degC</th>\n",
       "      <th>CO2_Emissions_tons_per_capita</th>\n",
       "      <th>Sea_Level_Rise_mm</th>\n",
       "      <th>Rainfall_mm</th>\n",
       "      <th>Population</th>\n",
       "      <th>Renewable_Energy_pct</th>\n",
       "      <th>Extreme_Weather_Events</th>\n",
       "      <th>Forest_Area_pct</th>\n",
       "    </tr>\n",
       "  </thead>\n",
       "  <tbody>\n",
       "    <tr>\n",
       "      <th>0</th>\n",
       "      <td>2006</td>\n",
       "      <td>UK</td>\n",
       "      <td>8.9</td>\n",
       "      <td>9.3</td>\n",
       "      <td>3.1</td>\n",
       "      <td>1441</td>\n",
       "      <td>530911230</td>\n",
       "      <td>20.4</td>\n",
       "      <td>14</td>\n",
       "      <td>59.8</td>\n",
       "    </tr>\n",
       "    <tr>\n",
       "      <th>1</th>\n",
       "      <td>2019</td>\n",
       "      <td>USA</td>\n",
       "      <td>31.0</td>\n",
       "      <td>4.8</td>\n",
       "      <td>4.2</td>\n",
       "      <td>2407</td>\n",
       "      <td>107364344</td>\n",
       "      <td>49.2</td>\n",
       "      <td>8</td>\n",
       "      <td>31.0</td>\n",
       "    </tr>\n",
       "    <tr>\n",
       "      <th>2</th>\n",
       "      <td>2014</td>\n",
       "      <td>France</td>\n",
       "      <td>33.9</td>\n",
       "      <td>2.8</td>\n",
       "      <td>2.2</td>\n",
       "      <td>1241</td>\n",
       "      <td>441101758</td>\n",
       "      <td>33.3</td>\n",
       "      <td>9</td>\n",
       "      <td>35.5</td>\n",
       "    </tr>\n",
       "    <tr>\n",
       "      <th>3</th>\n",
       "      <td>2010</td>\n",
       "      <td>Argentina</td>\n",
       "      <td>5.9</td>\n",
       "      <td>1.8</td>\n",
       "      <td>3.2</td>\n",
       "      <td>1892</td>\n",
       "      <td>1069669579</td>\n",
       "      <td>23.7</td>\n",
       "      <td>7</td>\n",
       "      <td>17.7</td>\n",
       "    </tr>\n",
       "    <tr>\n",
       "      <th>4</th>\n",
       "      <td>2007</td>\n",
       "      <td>Germany</td>\n",
       "      <td>26.9</td>\n",
       "      <td>5.6</td>\n",
       "      <td>2.4</td>\n",
       "      <td>1743</td>\n",
       "      <td>124079175</td>\n",
       "      <td>12.5</td>\n",
       "      <td>4</td>\n",
       "      <td>17.4</td>\n",
       "    </tr>\n",
       "    <tr>\n",
       "      <th>...</th>\n",
       "      <td>...</td>\n",
       "      <td>...</td>\n",
       "      <td>...</td>\n",
       "      <td>...</td>\n",
       "      <td>...</td>\n",
       "      <td>...</td>\n",
       "      <td>...</td>\n",
       "      <td>...</td>\n",
       "      <td>...</td>\n",
       "      <td>...</td>\n",
       "    </tr>\n",
       "    <tr>\n",
       "      <th>995</th>\n",
       "      <td>2019</td>\n",
       "      <td>India</td>\n",
       "      <td>23.6</td>\n",
       "      <td>8.0</td>\n",
       "      <td>1.2</td>\n",
       "      <td>1365</td>\n",
       "      <td>1358019778</td>\n",
       "      <td>10.0</td>\n",
       "      <td>8</td>\n",
       "      <td>20.2</td>\n",
       "    </tr>\n",
       "    <tr>\n",
       "      <th>996</th>\n",
       "      <td>2000</td>\n",
       "      <td>UK</td>\n",
       "      <td>21.8</td>\n",
       "      <td>10.0</td>\n",
       "      <td>2.2</td>\n",
       "      <td>1273</td>\n",
       "      <td>876123161</td>\n",
       "      <td>14.9</td>\n",
       "      <td>14</td>\n",
       "      <td>30.1</td>\n",
       "    </tr>\n",
       "    <tr>\n",
       "      <th>997</th>\n",
       "      <td>2019</td>\n",
       "      <td>Argentina</td>\n",
       "      <td>23.8</td>\n",
       "      <td>8.9</td>\n",
       "      <td>4.7</td>\n",
       "      <td>891</td>\n",
       "      <td>1120533308</td>\n",
       "      <td>25.9</td>\n",
       "      <td>10</td>\n",
       "      <td>46.5</td>\n",
       "    </tr>\n",
       "    <tr>\n",
       "      <th>998</th>\n",
       "      <td>2016</td>\n",
       "      <td>Australia</td>\n",
       "      <td>21.0</td>\n",
       "      <td>14.9</td>\n",
       "      <td>3.1</td>\n",
       "      <td>1136</td>\n",
       "      <td>380662109</td>\n",
       "      <td>24.5</td>\n",
       "      <td>3</td>\n",
       "      <td>44.5</td>\n",
       "    </tr>\n",
       "    <tr>\n",
       "      <th>999</th>\n",
       "      <td>2011</td>\n",
       "      <td>Germany</td>\n",
       "      <td>24.1</td>\n",
       "      <td>17.3</td>\n",
       "      <td>2.1</td>\n",
       "      <td>2854</td>\n",
       "      <td>398407112</td>\n",
       "      <td>41.0</td>\n",
       "      <td>3</td>\n",
       "      <td>19.8</td>\n",
       "    </tr>\n",
       "  </tbody>\n",
       "</table>\n",
       "<p>1000 rows × 10 columns</p>\n",
       "</div>"
      ],
      "text/plain": [
       "     Year    Country  Avg_Temperature_degC  CO2_Emissions_tons_per_capita  \\\n",
       "0    2006         UK                   8.9                            9.3   \n",
       "1    2019        USA                  31.0                            4.8   \n",
       "2    2014     France                  33.9                            2.8   \n",
       "3    2010  Argentina                   5.9                            1.8   \n",
       "4    2007    Germany                  26.9                            5.6   \n",
       "..    ...        ...                   ...                            ...   \n",
       "995  2019      India                  23.6                            8.0   \n",
       "996  2000         UK                  21.8                           10.0   \n",
       "997  2019  Argentina                  23.8                            8.9   \n",
       "998  2016  Australia                  21.0                           14.9   \n",
       "999  2011    Germany                  24.1                           17.3   \n",
       "\n",
       "     Sea_Level_Rise_mm  Rainfall_mm  Population  Renewable_Energy_pct  \\\n",
       "0                  3.1         1441   530911230                  20.4   \n",
       "1                  4.2         2407   107364344                  49.2   \n",
       "2                  2.2         1241   441101758                  33.3   \n",
       "3                  3.2         1892  1069669579                  23.7   \n",
       "4                  2.4         1743   124079175                  12.5   \n",
       "..                 ...          ...         ...                   ...   \n",
       "995                1.2         1365  1358019778                  10.0   \n",
       "996                2.2         1273   876123161                  14.9   \n",
       "997                4.7          891  1120533308                  25.9   \n",
       "998                3.1         1136   380662109                  24.5   \n",
       "999                2.1         2854   398407112                  41.0   \n",
       "\n",
       "     Extreme_Weather_Events  Forest_Area_pct  \n",
       "0                        14             59.8  \n",
       "1                         8             31.0  \n",
       "2                         9             35.5  \n",
       "3                         7             17.7  \n",
       "4                         4             17.4  \n",
       "..                      ...              ...  \n",
       "995                       8             20.2  \n",
       "996                      14             30.1  \n",
       "997                      10             46.5  \n",
       "998                       3             44.5  \n",
       "999                       3             19.8  \n",
       "\n",
       "[1000 rows x 10 columns]"
      ]
     },
     "execution_count": 301,
     "metadata": {},
     "output_type": "execute_result"
    }
   ],
   "source": [
    "# The dataset is too large to display as a whole, so printing it will display the first and last few rows by default \n",
    "print('First and last few rows of the dataset:\\n') \n",
    "df # display the dataset # tip: avoid using print() with df commands for neater formatting\n",
    "# Alternatively, the built-in functions df.head() and df.tail() display the first and last 5 rows of the dataset by default"
   ]
  },
  {
   "cell_type": "code",
   "execution_count": 303,
   "id": "b0a0d22c-c6cb-4619-8b6e-cbd5d754724a",
   "metadata": {},
   "outputs": [
    {
     "name": "stdout",
     "output_type": "stream",
     "text": [
      "General information about the dataset:\n",
      "\n",
      "<class 'pandas.core.frame.DataFrame'>\n",
      "RangeIndex: 1000 entries, 0 to 999\n",
      "Data columns (total 10 columns):\n",
      " #   Column                         Non-Null Count  Dtype  \n",
      "---  ------                         --------------  -----  \n",
      " 0   Year                           1000 non-null   int64  \n",
      " 1   Country                        1000 non-null   object \n",
      " 2   Avg_Temperature_degC           1000 non-null   float64\n",
      " 3   CO2_Emissions_tons_per_capita  1000 non-null   float64\n",
      " 4   Sea_Level_Rise_mm              1000 non-null   float64\n",
      " 5   Rainfall_mm                    1000 non-null   int64  \n",
      " 6   Population                     1000 non-null   int64  \n",
      " 7   Renewable_Energy_pct           1000 non-null   float64\n",
      " 8   Extreme_Weather_Events         1000 non-null   int64  \n",
      " 9   Forest_Area_pct                1000 non-null   float64\n",
      "dtypes: float64(5), int64(4), object(1)\n",
      "memory usage: 78.3+ KB\n"
     ]
    }
   ],
   "source": [
    "# The built-in function df.info displays general info such as data types and null values\n",
    "print('General information about the dataset:\\n')\n",
    "df.info() # print the command "
   ]
  },
  {
   "cell_type": "code",
   "execution_count": 305,
   "id": "e21662b2-595c-40f4-9872-fb7e84def997",
   "metadata": {},
   "outputs": [],
   "source": [
    "# int64 indicates a numerical entry, while object indicates a categorical enrtry"
   ]
  },
  {
   "cell_type": "markdown",
   "id": "cd0131bf-d0a6-4b92-b72e-70c8a374d610",
   "metadata": {},
   "source": [
    "**2. Identify the variable types (categorical, numerical, datetime, etc.)** "
   ]
  },
  {
   "cell_type": "code",
   "execution_count": 308,
   "id": "614315af-ac59-431c-b6e7-8afb85ea9d85",
   "metadata": {},
   "outputs": [
    {
     "name": "stdout",
     "output_type": "stream",
     "text": [
      "Variable types of the dataset:\n",
      "\n"
     ]
    },
    {
     "data": {
      "text/plain": [
       "Year                               int64\n",
       "Country                           object\n",
       "Avg_Temperature_degC             float64\n",
       "CO2_Emissions_tons_per_capita    float64\n",
       "Sea_Level_Rise_mm                float64\n",
       "Rainfall_mm                        int64\n",
       "Population                         int64\n",
       "Renewable_Energy_pct             float64\n",
       "Extreme_Weather_Events             int64\n",
       "Forest_Area_pct                  float64\n",
       "dtype: object"
      ]
     },
     "execution_count": 308,
     "metadata": {},
     "output_type": "execute_result"
    }
   ],
   "source": [
    "# The built-in function df.datatypes prints a string of the datatypes for each column  \n",
    "print('Variable types of the dataset:\\n')\n",
    "df.dtypes # print the function"
   ]
  },
  {
   "cell_type": "code",
   "execution_count": 310,
   "id": "432899be-014b-4fd5-9c46-a58716088eea",
   "metadata": {},
   "outputs": [],
   "source": [
    "# int64 represents integer-based data (ex. 1,2,3)\n",
    "# object represents string-based data (ex. one, two, three)\n",
    "# float represents decimal-based data (ex. 1.0, 2.0, 3.0)"
   ]
  },
  {
   "cell_type": "markdown",
   "id": "44b43242-5b97-4a37-846d-aba34174eed1",
   "metadata": {},
   "source": [
    "3. Are there any missing values? <br> \n",
    "    * How many Missing Values?\n",
    "    * Briefly describe how you plan to handle them."
   ]
  },
  {
   "cell_type": "code",
   "execution_count": 313,
   "id": "7eb86e03-d813-40d4-b8ca-a23ef8ce118a",
   "metadata": {},
   "outputs": [
    {
     "name": "stdout",
     "output_type": "stream",
     "text": [
      "Total of missing values in the dataset:\n",
      "\n"
     ]
    },
    {
     "data": {
      "text/plain": [
       "Year                             0\n",
       "Country                          0\n",
       "Avg_Temperature_degC             0\n",
       "CO2_Emissions_tons_per_capita    0\n",
       "Sea_Level_Rise_mm                0\n",
       "Rainfall_mm                      0\n",
       "Population                       0\n",
       "Renewable_Energy_pct             0\n",
       "Extreme_Weather_Events           0\n",
       "Forest_Area_pct                  0\n",
       "dtype: int64"
      ]
     },
     "execution_count": 313,
     "metadata": {},
     "output_type": "execute_result"
    }
   ],
   "source": [
    "# The built-in function df.isnull() identifies each value as a true or false that it is a null value\n",
    "print('Total of missing values in the dataset:\\n')\n",
    "df.isnull().sum() # use .sum() to print the total # of missing values in each column"
   ]
  },
  {
   "cell_type": "code",
   "execution_count": 315,
   "id": "0a57b3e5-9d45-43da-87e0-1f1eefa5068f",
   "metadata": {},
   "outputs": [],
   "source": [
    "# there are no null values in the dataset"
   ]
  },
  {
   "cell_type": "code",
   "execution_count": 317,
   "id": "052df4b3-1f6b-4433-abcf-6e145128a479",
   "metadata": {},
   "outputs": [],
   "source": [
    "# Hypothetically if there were null values to handle:\n",
    "# if missing data is less than 20% of the column, we can relace the null values with the mode of the column\n",
    "# alternatively, we could replace the values with \"Unknown\" or drop the column entirely"
   ]
  },
  {
   "cell_type": "markdown",
   "id": "2dc27ef2-1928-417b-ade3-2f46427a696e",
   "metadata": {},
   "source": [
    "---"
   ]
  },
  {
   "cell_type": "markdown",
   "id": "5847eb52-b742-4f63-b5e2-f594ad6a45f4",
   "metadata": {},
   "source": [
    "### **SECTION II: DATA CLEANING & INDEXING**\n",
    "4. Check for and remove duplicates. (Use .duplicated().sum() and .drop_duplicates() if applicable)\n",
    "5. Provide two examples of DataFrame filtering using logical conditions (e.g., by category, threshold). You can include more!"
   ]
  },
  {
   "cell_type": "code",
   "execution_count": 320,
   "id": "1701e95a-e4cd-450d-a4c6-9049ea575cd8",
   "metadata": {},
   "outputs": [],
   "source": [
    "# before doing anything to alter the data, we will copy it. This is important to make sure we don't ruin the original data file. \n",
    "df_new = df.copy()"
   ]
  },
  {
   "cell_type": "code",
   "execution_count": 322,
   "id": "298a6db5-9fe3-46c9-8703-0dba4dab2610",
   "metadata": {},
   "outputs": [
    {
     "data": {
      "text/plain": [
       "0"
      ]
     },
     "execution_count": 322,
     "metadata": {},
     "output_type": "execute_result"
    }
   ],
   "source": [
    "# .duplicated().sum() is a built in function to calulate the sum of all duplicate data entries.\n",
    "df_new.duplicated().sum()"
   ]
  },
  {
   "cell_type": "code",
   "execution_count": 324,
   "id": "fb80736e-f414-4dd5-b3b6-75994f52ffbf",
   "metadata": {},
   "outputs": [],
   "source": [
    "# Since it returned 0, there are no duplicate counts. If there were duplicates, we could use .drop_duplicates to remove them from the dataset"
   ]
  },
  {
   "cell_type": "code",
   "execution_count": 410,
   "id": "b6821e72-a90e-4d30-88ea-cda4dd6d6d08",
   "metadata": {},
   "outputs": [
    {
     "name": "stdout",
     "output_type": "stream",
     "text": [
      "C02 Emissions (tons per capita) by Country:\n",
      "\n",
      "           Country  CO2 Emissions (tons/capita)\n",
      "0        Australia                     8.900000\n",
      "1           Russia                     8.967568\n",
      "2           Mexico                     9.347273\n",
      "3   'South Africa'                     9.617808\n",
      "4          Germany                     9.880328\n",
      "5           Canada                    10.113433\n",
      "6        Argentina                    10.447761\n",
      "7            India                    10.694286\n",
      "8            China                    10.835821\n",
      "9           Brazil                    10.838806\n",
      "10             USA                    10.882192\n",
      "11           Japan                    10.960317\n",
      "12          France                    10.966667\n",
      "13       Indonesia                    11.021333\n",
      "14              UK                    12.650769\n"
     ]
    }
   ],
   "source": [
    "# .groupby is a built-in function that enables data filtering through grouping it by columns of choice. It can be used to see the intersections of columns\n",
    "\n",
    "# created a user-defined name for this filter, assign value of the dataset copy grouped by Country, extracting the mean values of CO2 emissions for each country\n",
    "CO2_by_country=df_new.groupby('Country')['CO2_Emissions_tons_per_capita'].mean().sort_values().reset_index(name='CO2 Emissions (tons/capita)')\n",
    "\n",
    "# .sort_values() is a built in funtion that orders the data. By default, it has sorted it from low to high \n",
    "# .reset_index is a built-in funtion that resets an index label. We can then assign a new name to it \n",
    "\n",
    "print('C02 Emissions (tons per capita) by Country:\\n')\n",
    "print(CO2_by_country) # print the filter "
   ]
  },
  {
   "cell_type": "markdown",
   "id": "224e306a-137e-4954-9177-6f702cd7f6c8",
   "metadata": {},
   "source": [
    "**Interpretation:** <br>\n",
    "* Australia has the lowest carbon dioxide emissions in tons per capita, while the United Kingdom has the highest. The difference between them is 3.750769 tons per capita.\n",
    "* Majority of the countries producing the most CO2 emissions are known to be more industry heavy.\n",
    "\n",
    "**Why it matters:** <br>\n",
    "* **This helps to put into perspective the countries as CO2 emission producers, in relation to each other**\n",
    "* The tons per capita metric of measurement accounts for the size of each country. It is the total emissions divided by the population to compare the average amount produced by a single person.\n",
    "* This standardized mesurement arguably brings into question the kind of culture being fostered towards environmental impact in each country, when considering the daily requirements of a person's livestyle that may affect the global atmosphere.\n",
    "  - However, I am curious if this removes a level of accountability from large industrial coorporations that produce a level of C02 equivalent to many citizens combined."
   ]
  },
  {
   "cell_type": "code",
   "execution_count": 426,
   "id": "1a8da21f-0654-4693-a98e-5d9444f486d5",
   "metadata": {},
   "outputs": [
    {
     "name": "stdout",
     "output_type": "stream",
     "text": [
      "C02 Emissions of each country in 2000:\n",
      "\n"
     ]
    },
    {
     "data": {
      "text/html": [
       "<div>\n",
       "<style scoped>\n",
       "    .dataframe tbody tr th:only-of-type {\n",
       "        vertical-align: middle;\n",
       "    }\n",
       "\n",
       "    .dataframe tbody tr th {\n",
       "        vertical-align: top;\n",
       "    }\n",
       "\n",
       "    .dataframe thead th {\n",
       "        text-align: right;\n",
       "    }\n",
       "</style>\n",
       "<table border=\"1\" class=\"dataframe\">\n",
       "  <thead>\n",
       "    <tr style=\"text-align: right;\">\n",
       "      <th></th>\n",
       "      <th>Year</th>\n",
       "      <th>Country</th>\n",
       "      <th>CO2 Emissions (tons/capita)</th>\n",
       "    </tr>\n",
       "  </thead>\n",
       "  <tbody>\n",
       "    <tr>\n",
       "      <th>0</th>\n",
       "      <td>2000</td>\n",
       "      <td>'South Africa'</td>\n",
       "      <td>13.985714</td>\n",
       "    </tr>\n",
       "    <tr>\n",
       "      <th>1</th>\n",
       "      <td>2000</td>\n",
       "      <td>Argentina</td>\n",
       "      <td>3.900000</td>\n",
       "    </tr>\n",
       "    <tr>\n",
       "      <th>2</th>\n",
       "      <td>2000</td>\n",
       "      <td>Australia</td>\n",
       "      <td>10.466667</td>\n",
       "    </tr>\n",
       "    <tr>\n",
       "      <th>3</th>\n",
       "      <td>2000</td>\n",
       "      <td>Brazil</td>\n",
       "      <td>14.600000</td>\n",
       "    </tr>\n",
       "    <tr>\n",
       "      <th>4</th>\n",
       "      <td>2000</td>\n",
       "      <td>Canada</td>\n",
       "      <td>8.850000</td>\n",
       "    </tr>\n",
       "    <tr>\n",
       "      <th>5</th>\n",
       "      <td>2000</td>\n",
       "      <td>China</td>\n",
       "      <td>6.925000</td>\n",
       "    </tr>\n",
       "    <tr>\n",
       "      <th>6</th>\n",
       "      <td>2000</td>\n",
       "      <td>France</td>\n",
       "      <td>14.600000</td>\n",
       "    </tr>\n",
       "    <tr>\n",
       "      <th>7</th>\n",
       "      <td>2000</td>\n",
       "      <td>Germany</td>\n",
       "      <td>5.950000</td>\n",
       "    </tr>\n",
       "    <tr>\n",
       "      <th>8</th>\n",
       "      <td>2000</td>\n",
       "      <td>India</td>\n",
       "      <td>12.250000</td>\n",
       "    </tr>\n",
       "    <tr>\n",
       "      <th>9</th>\n",
       "      <td>2000</td>\n",
       "      <td>Indonesia</td>\n",
       "      <td>13.942857</td>\n",
       "    </tr>\n",
       "    <tr>\n",
       "      <th>10</th>\n",
       "      <td>2000</td>\n",
       "      <td>Mexico</td>\n",
       "      <td>4.400000</td>\n",
       "    </tr>\n",
       "    <tr>\n",
       "      <th>11</th>\n",
       "      <td>2000</td>\n",
       "      <td>Russia</td>\n",
       "      <td>9.900000</td>\n",
       "    </tr>\n",
       "    <tr>\n",
       "      <th>12</th>\n",
       "      <td>2000</td>\n",
       "      <td>UK</td>\n",
       "      <td>10.987500</td>\n",
       "    </tr>\n",
       "    <tr>\n",
       "      <th>13</th>\n",
       "      <td>2000</td>\n",
       "      <td>USA</td>\n",
       "      <td>13.040000</td>\n",
       "    </tr>\n",
       "  </tbody>\n",
       "</table>\n",
       "</div>"
      ],
      "text/plain": [
       "    Year         Country  CO2 Emissions (tons/capita)\n",
       "0   2000  'South Africa'                    13.985714\n",
       "1   2000       Argentina                     3.900000\n",
       "2   2000       Australia                    10.466667\n",
       "3   2000          Brazil                    14.600000\n",
       "4   2000          Canada                     8.850000\n",
       "5   2000           China                     6.925000\n",
       "6   2000          France                    14.600000\n",
       "7   2000         Germany                     5.950000\n",
       "8   2000           India                    12.250000\n",
       "9   2000       Indonesia                    13.942857\n",
       "10  2000          Mexico                     4.400000\n",
       "11  2000          Russia                     9.900000\n",
       "12  2000              UK                    10.987500\n",
       "13  2000             USA                    13.040000"
      ]
     },
     "execution_count": 426,
     "metadata": {},
     "output_type": "execute_result"
    }
   ],
   "source": [
    "# use .groupby to filter the data by multiple columns at once \n",
    "tb =df_new.groupby(['Year','Country'])['CO2_Emissions_tons_per_capita'].mean().reset_index(name='CO2 Emissions (tons/capita)') \n",
    "# .reset_index is a built-in funtion that resets an index label. We can then assign a new name to it \n",
    "\n",
    "print('C02 Emissions of each country in 2000:\\n')\n",
    "tb.head(14) # print the first 14 rows for all 14 countries in the first year documented"
   ]
  },
  {
   "cell_type": "code",
   "execution_count": 428,
   "id": "7ef93a64-e8e8-4155-8777-dc5c0e04336d",
   "metadata": {},
   "outputs": [
    {
     "name": "stdout",
     "output_type": "stream",
     "text": [
      "CO2 Emissions of each country in 2023:\n",
      "\n"
     ]
    },
    {
     "data": {
      "text/html": [
       "<div>\n",
       "<style scoped>\n",
       "    .dataframe tbody tr th:only-of-type {\n",
       "        vertical-align: middle;\n",
       "    }\n",
       "\n",
       "    .dataframe tbody tr th {\n",
       "        vertical-align: top;\n",
       "    }\n",
       "\n",
       "    .dataframe thead th {\n",
       "        text-align: right;\n",
       "    }\n",
       "</style>\n",
       "<table border=\"1\" class=\"dataframe\">\n",
       "  <thead>\n",
       "    <tr style=\"text-align: right;\">\n",
       "      <th></th>\n",
       "      <th>Year</th>\n",
       "      <th>Country</th>\n",
       "      <th>CO2 Emissions (tons/capita)</th>\n",
       "    </tr>\n",
       "  </thead>\n",
       "  <tbody>\n",
       "    <tr>\n",
       "      <th>325</th>\n",
       "      <td>2023</td>\n",
       "      <td>'South Africa'</td>\n",
       "      <td>15.000000</td>\n",
       "    </tr>\n",
       "    <tr>\n",
       "      <th>326</th>\n",
       "      <td>2023</td>\n",
       "      <td>Argentina</td>\n",
       "      <td>12.283333</td>\n",
       "    </tr>\n",
       "    <tr>\n",
       "      <th>327</th>\n",
       "      <td>2023</td>\n",
       "      <td>Australia</td>\n",
       "      <td>9.200000</td>\n",
       "    </tr>\n",
       "    <tr>\n",
       "      <th>328</th>\n",
       "      <td>2023</td>\n",
       "      <td>Brazil</td>\n",
       "      <td>13.100000</td>\n",
       "    </tr>\n",
       "    <tr>\n",
       "      <th>329</th>\n",
       "      <td>2023</td>\n",
       "      <td>Canada</td>\n",
       "      <td>7.900000</td>\n",
       "    </tr>\n",
       "    <tr>\n",
       "      <th>330</th>\n",
       "      <td>2023</td>\n",
       "      <td>China</td>\n",
       "      <td>9.333333</td>\n",
       "    </tr>\n",
       "    <tr>\n",
       "      <th>331</th>\n",
       "      <td>2023</td>\n",
       "      <td>France</td>\n",
       "      <td>11.625000</td>\n",
       "    </tr>\n",
       "    <tr>\n",
       "      <th>332</th>\n",
       "      <td>2023</td>\n",
       "      <td>Germany</td>\n",
       "      <td>10.900000</td>\n",
       "    </tr>\n",
       "    <tr>\n",
       "      <th>333</th>\n",
       "      <td>2023</td>\n",
       "      <td>India</td>\n",
       "      <td>17.650000</td>\n",
       "    </tr>\n",
       "    <tr>\n",
       "      <th>334</th>\n",
       "      <td>2023</td>\n",
       "      <td>Indonesia</td>\n",
       "      <td>12.900000</td>\n",
       "    </tr>\n",
       "    <tr>\n",
       "      <th>335</th>\n",
       "      <td>2023</td>\n",
       "      <td>Japan</td>\n",
       "      <td>4.800000</td>\n",
       "    </tr>\n",
       "    <tr>\n",
       "      <th>336</th>\n",
       "      <td>2023</td>\n",
       "      <td>Mexico</td>\n",
       "      <td>9.750000</td>\n",
       "    </tr>\n",
       "    <tr>\n",
       "      <th>337</th>\n",
       "      <td>2023</td>\n",
       "      <td>Russia</td>\n",
       "      <td>11.400000</td>\n",
       "    </tr>\n",
       "    <tr>\n",
       "      <th>338</th>\n",
       "      <td>2023</td>\n",
       "      <td>UK</td>\n",
       "      <td>14.300000</td>\n",
       "    </tr>\n",
       "    <tr>\n",
       "      <th>339</th>\n",
       "      <td>2023</td>\n",
       "      <td>USA</td>\n",
       "      <td>11.242857</td>\n",
       "    </tr>\n",
       "  </tbody>\n",
       "</table>\n",
       "</div>"
      ],
      "text/plain": [
       "     Year         Country  CO2 Emissions (tons/capita)\n",
       "325  2023  'South Africa'                    15.000000\n",
       "326  2023       Argentina                    12.283333\n",
       "327  2023       Australia                     9.200000\n",
       "328  2023          Brazil                    13.100000\n",
       "329  2023          Canada                     7.900000\n",
       "330  2023           China                     9.333333\n",
       "331  2023          France                    11.625000\n",
       "332  2023         Germany                    10.900000\n",
       "333  2023           India                    17.650000\n",
       "334  2023       Indonesia                    12.900000\n",
       "335  2023           Japan                     4.800000\n",
       "336  2023          Mexico                     9.750000\n",
       "337  2023          Russia                    11.400000\n",
       "338  2023              UK                    14.300000\n",
       "339  2023             USA                    11.242857"
      ]
     },
     "execution_count": 428,
     "metadata": {},
     "output_type": "execute_result"
    }
   ],
   "source": [
    "print('CO2 Emissions of each country in 2023:\\n')\n",
    "tb.tail(15) # print the last 14 rows for all 14 countries in the last year documented "
   ]
  },
  {
   "cell_type": "markdown",
   "id": "81f4083a-d154-46e5-8e3c-6419dab03e88",
   "metadata": {},
   "source": [
    "**Interpretation:** <br>\n",
    "* Between 2000 and 2023, some countries have increased in C02 emissions, such as Argentina that had a dramatic increase from 3.9 tons/capita to 12.28 tons per capita\n",
    "* Others have seen decreases, such as Russia, USA, and Frace \n",
    "\n",
    "**Why it matters:** <br>\n",
    "* While it is difficult to view the entire dataframe, at least comparing the first and last years available for each country **gives insight into how CO2 emissions have progressed from each of them, over the span of 23 years**. However, this is not to assume a linear trajectory of each change.\n",
    "* I am curious to look into the historical occurences such as policy change or the success of particular industries that have affected the levels of CO2 emissions from a country. For example, the environmental policies of the Clinton administration in 2000 versus the Biden administration in 2023, in case their leadership has anything to do with the levels of C02 produced during their terms.\n",
    "* The decreases of countries in the UN (United Nations) could be due to pacts such as the Paris Agreement established to mitigate global warming "
   ]
  },
  {
   "cell_type": "markdown",
   "id": "510e2d1e-1cf0-4c9b-8145-948e82303527",
   "metadata": {},
   "source": [
    "---"
   ]
  },
  {
   "cell_type": "markdown",
   "id": "a77a2110-f6f1-401e-a4d2-644bb2cbbf31",
   "metadata": {},
   "source": [
    "### **SECTION III: DESCRIPTIVE STATISTICS**\n",
    "6. Use .describe() on numerical columns. Share at least one interesting insight.<br>\n",
    "7. Use .value_counts() to analyze at least two categorical columns.<br>\n",
    "8. Use .groupby() to compute summary statistics (e.g., mean or count) across categories.<br>\n",
    "Note: If you find any additional interesting filtering/grouping do not forget to include that!"
   ]
  },
  {
   "cell_type": "code",
   "execution_count": 462,
   "id": "44d7232c-13d9-4145-bac3-63ce84f8e74c",
   "metadata": {},
   "outputs": [
    {
     "name": "stdout",
     "output_type": "stream",
     "text": [
      "Summary Statistics for Extreme Weather Events:\n",
      "\n"
     ]
    },
    {
     "data": {
      "text/plain": [
       "count    1000.000000\n",
       "mean        7.291000\n",
       "std         4.422655\n",
       "min         0.000000\n",
       "25%         3.000000\n",
       "50%         8.000000\n",
       "75%        11.000000\n",
       "max        14.000000\n",
       "Name: Extreme_Weather_Events, dtype: float64"
      ]
     },
     "execution_count": 462,
     "metadata": {},
     "output_type": "execute_result"
    }
   ],
   "source": [
    "print('Summary Statistics for Extreme Weather Events:\\n')\n",
    "df_new['Extreme_Weather_Events'].describe()"
   ]
  },
  {
   "cell_type": "code",
   "execution_count": 460,
   "id": "deace4cf-f1df-427b-8fd3-e957b3370daa",
   "metadata": {},
   "outputs": [
    {
     "name": "stdout",
     "output_type": "stream",
     "text": [
      "Summary Statistics for Forest Area:\n",
      "\n"
     ]
    },
    {
     "data": {
      "text/plain": [
       "count    1000.000000\n",
       "mean       40.572000\n",
       "std        17.398998\n",
       "min        10.100000\n",
       "25%        25.600000\n",
       "50%        41.150000\n",
       "75%        55.800000\n",
       "max        70.000000\n",
       "Name: Forest_Area_pct, dtype: float64"
      ]
     },
     "execution_count": 460,
     "metadata": {},
     "output_type": "execute_result"
    }
   ],
   "source": [
    "print('Summary Statistics for Forest Area:\\n')\n",
    "df_new['Forest_Area_pct'].describe()"
   ]
  },
  {
   "cell_type": "markdown",
   "id": "8fd0bb83-2289-4a17-a41b-f63e312fee65",
   "metadata": {},
   "source": [
    "**Notable Insights:**\n",
    "* There was a country with 70% of its land occupied by forests at some point in time, and one with 10%.\n",
    "* When viewed as an indicator of ecological health, this is a vast difference. It could be that the 10% naturally had less forests to begin with, or that areas were deforested for industrial purposes, for example."
   ]
  },
  {
   "cell_type": "code",
   "execution_count": 458,
   "id": "1719235a-a6d4-402d-9c19-b1f5badc3831",
   "metadata": {},
   "outputs": [
    {
     "name": "stdout",
     "output_type": "stream",
     "text": [
      "Summary Statistics for Renewable Energy:\n",
      "\n"
     ]
    },
    {
     "data": {
      "text/plain": [
       "count    1000.000000\n",
       "mean       27.300500\n",
       "std        12.970808\n",
       "min         5.100000\n",
       "25%        16.100000\n",
       "50%        27.150000\n",
       "75%        38.925000\n",
       "max        50.000000\n",
       "Name: Renewable_Energy_pct, dtype: float64"
      ]
     },
     "execution_count": 458,
     "metadata": {},
     "output_type": "execute_result"
    }
   ],
   "source": [
    "print('Summary Statistics for Renewable Energy:\\n')\n",
    "df_new['Renewable_Energy_pct'].describe()"
   ]
  },
  {
   "cell_type": "markdown",
   "id": "8d65c304-3eb6-4a7c-9725-a5a057f45800",
   "metadata": {},
   "source": [
    "**Notable Insights:**\n",
    "* The highest amount of renewable energy in a country was 50% at some point in time.\n",
    "* If the record to beat was half of all energy in a country being renewable, what is the goal or record that nations are pushing for today? Do we nave new technology to support this goal? "
   ]
  },
  {
   "cell_type": "code",
   "execution_count": 456,
   "id": "4e627788-6a08-4035-865c-4604c13b4cfa",
   "metadata": {},
   "outputs": [
    {
     "name": "stdout",
     "output_type": "stream",
     "text": [
      "Summary Statistics for Population:\n",
      "\n"
     ]
    },
    {
     "data": {
      "text/plain": [
       "count    1.000000e+03\n",
       "mean     7.053830e+08\n",
       "std      4.093910e+08\n",
       "min      3.660891e+06\n",
       "25%      3.436242e+08\n",
       "50%      7.131166e+08\n",
       "75%      1.073868e+09\n",
       "max      1.397016e+09\n",
       "Name: Population, dtype: float64"
      ]
     },
     "execution_count": 456,
     "metadata": {},
     "output_type": "execute_result"
    }
   ],
   "source": [
    "print('Summary Statistics for Population:\\n')\n",
    "df_new['Population'].describe()"
   ]
  },
  {
   "cell_type": "code",
   "execution_count": 464,
   "id": "e5fe94a5-24d9-480e-998b-b1f2bebd11bd",
   "metadata": {},
   "outputs": [
    {
     "name": "stdout",
     "output_type": "stream",
     "text": [
      "Summary Statistics for Extreme Weather Events:\n",
      "\n"
     ]
    },
    {
     "data": {
      "text/plain": [
       "count    1000.000000\n",
       "mean     2011.432000\n",
       "std         7.147199\n",
       "min      2000.000000\n",
       "25%      2005.000000\n",
       "50%      2012.000000\n",
       "75%      2018.000000\n",
       "max      2023.000000\n",
       "Name: Year, dtype: float64"
      ]
     },
     "execution_count": 464,
     "metadata": {},
     "output_type": "execute_result"
    }
   ],
   "source": [
    "print('Summary Statistics for Extreme Weather Events:\\n')\n",
    "df_new['Year'].describe()"
   ]
  },
  {
   "cell_type": "code",
   "execution_count": 482,
   "id": "20700b93-88d2-48cb-b78b-e81fd00b14b7",
   "metadata": {},
   "outputs": [
    {
     "name": "stdout",
     "output_type": "stream",
     "text": [
      "Unique value counts for Country:\n"
     ]
    },
    {
     "data": {
      "text/plain": [
       "Country\n",
       "Indonesia         75\n",
       "Russia            74\n",
       "USA               73\n",
       "'South Africa'    73\n",
       "India             70\n",
       "Argentina         67\n",
       "China             67\n",
       "Brazil            67\n",
       "Canada            67\n",
       "France            66\n",
       "UK                65\n",
       "Japan             63\n",
       "Germany           61\n",
       "Australia         57\n",
       "Mexico            55\n",
       "Name: count, dtype: int64"
      ]
     },
     "execution_count": 482,
     "metadata": {},
     "output_type": "execute_result"
    }
   ],
   "source": [
    "# .value_counts is a built-in function that returns the frequency of each uniqe category in a column\n",
    "print('Unique value counts for Country:')\n",
    "df_new['Country'].value_counts()"
   ]
  },
  {
   "cell_type": "markdown",
   "id": "4a648fe6-cda5-4e6f-97ae-c095aaa11064",
   "metadata": {},
   "source": [
    "**Interpretation:**\n",
    "* Indonesia is represented the most in the dataset (75 times)\n",
    "* Mexico is represented the least in the dataset (55 times)\n",
    "\n",
    "**Why it matters:**\n",
    "* It is uncertain why each country was not accounted for in all 23 years\n",
    "* This is important to note when considering statistics involving the country column, because there is not an equal representation of each country "
   ]
  },
  {
   "cell_type": "code",
   "execution_count": 349,
   "id": "9b2b7a02-4347-4e03-bb34-a7450479e0c8",
   "metadata": {},
   "outputs": [],
   "source": [
    "# Since 'Country' is the only categorical column, I will create another to analyze. \n",
    "# This new column will be based on the summary statistics of the 'Population column'"
   ]
  },
  {
   "cell_type": "code",
   "execution_count": 478,
   "id": "c11117e2-6a63-4617-a6ea-ef2b87ed392f",
   "metadata": {},
   "outputs": [
    {
     "data": {
      "text/html": [
       "<div>\n",
       "<style scoped>\n",
       "    .dataframe tbody tr th:only-of-type {\n",
       "        vertical-align: middle;\n",
       "    }\n",
       "\n",
       "    .dataframe tbody tr th {\n",
       "        vertical-align: top;\n",
       "    }\n",
       "\n",
       "    .dataframe thead th {\n",
       "        text-align: right;\n",
       "    }\n",
       "</style>\n",
       "<table border=\"1\" class=\"dataframe\">\n",
       "  <thead>\n",
       "    <tr style=\"text-align: right;\">\n",
       "      <th></th>\n",
       "      <th>Year</th>\n",
       "      <th>Country</th>\n",
       "      <th>Avg_Temperature_degC</th>\n",
       "      <th>CO2_Emissions_tons_per_capita</th>\n",
       "      <th>Sea_Level_Rise_mm</th>\n",
       "      <th>Rainfall_mm</th>\n",
       "      <th>Population</th>\n",
       "      <th>Renewable_Energy_pct</th>\n",
       "      <th>Extreme_Weather_Events</th>\n",
       "      <th>Forest_Area_pct</th>\n",
       "      <th>Population Size</th>\n",
       "      <th>Total C02 Emissions (tons)</th>\n",
       "    </tr>\n",
       "  </thead>\n",
       "  <tbody>\n",
       "    <tr>\n",
       "      <th>0</th>\n",
       "      <td>2006</td>\n",
       "      <td>UK</td>\n",
       "      <td>8.9</td>\n",
       "      <td>9.3</td>\n",
       "      <td>3.1</td>\n",
       "      <td>1441</td>\n",
       "      <td>530911230</td>\n",
       "      <td>20.4</td>\n",
       "      <td>14</td>\n",
       "      <td>59.8</td>\n",
       "      <td>Medium</td>\n",
       "      <td>4.937474e+09</td>\n",
       "    </tr>\n",
       "    <tr>\n",
       "      <th>1</th>\n",
       "      <td>2019</td>\n",
       "      <td>USA</td>\n",
       "      <td>31.0</td>\n",
       "      <td>4.8</td>\n",
       "      <td>4.2</td>\n",
       "      <td>2407</td>\n",
       "      <td>107364344</td>\n",
       "      <td>49.2</td>\n",
       "      <td>8</td>\n",
       "      <td>31.0</td>\n",
       "      <td>Small</td>\n",
       "      <td>5.153489e+08</td>\n",
       "    </tr>\n",
       "    <tr>\n",
       "      <th>2</th>\n",
       "      <td>2014</td>\n",
       "      <td>France</td>\n",
       "      <td>33.9</td>\n",
       "      <td>2.8</td>\n",
       "      <td>2.2</td>\n",
       "      <td>1241</td>\n",
       "      <td>441101758</td>\n",
       "      <td>33.3</td>\n",
       "      <td>9</td>\n",
       "      <td>35.5</td>\n",
       "      <td>Medium</td>\n",
       "      <td>1.235085e+09</td>\n",
       "    </tr>\n",
       "    <tr>\n",
       "      <th>3</th>\n",
       "      <td>2010</td>\n",
       "      <td>Argentina</td>\n",
       "      <td>5.9</td>\n",
       "      <td>1.8</td>\n",
       "      <td>3.2</td>\n",
       "      <td>1892</td>\n",
       "      <td>1069669579</td>\n",
       "      <td>23.7</td>\n",
       "      <td>7</td>\n",
       "      <td>17.7</td>\n",
       "      <td>Medium</td>\n",
       "      <td>1.925405e+09</td>\n",
       "    </tr>\n",
       "    <tr>\n",
       "      <th>4</th>\n",
       "      <td>2007</td>\n",
       "      <td>Germany</td>\n",
       "      <td>26.9</td>\n",
       "      <td>5.6</td>\n",
       "      <td>2.4</td>\n",
       "      <td>1743</td>\n",
       "      <td>124079175</td>\n",
       "      <td>12.5</td>\n",
       "      <td>4</td>\n",
       "      <td>17.4</td>\n",
       "      <td>Small</td>\n",
       "      <td>6.948434e+08</td>\n",
       "    </tr>\n",
       "    <tr>\n",
       "      <th>...</th>\n",
       "      <td>...</td>\n",
       "      <td>...</td>\n",
       "      <td>...</td>\n",
       "      <td>...</td>\n",
       "      <td>...</td>\n",
       "      <td>...</td>\n",
       "      <td>...</td>\n",
       "      <td>...</td>\n",
       "      <td>...</td>\n",
       "      <td>...</td>\n",
       "      <td>...</td>\n",
       "      <td>...</td>\n",
       "    </tr>\n",
       "    <tr>\n",
       "      <th>995</th>\n",
       "      <td>2019</td>\n",
       "      <td>India</td>\n",
       "      <td>23.6</td>\n",
       "      <td>8.0</td>\n",
       "      <td>1.2</td>\n",
       "      <td>1365</td>\n",
       "      <td>1358019778</td>\n",
       "      <td>10.0</td>\n",
       "      <td>8</td>\n",
       "      <td>20.2</td>\n",
       "      <td>Large</td>\n",
       "      <td>1.086416e+10</td>\n",
       "    </tr>\n",
       "    <tr>\n",
       "      <th>996</th>\n",
       "      <td>2000</td>\n",
       "      <td>UK</td>\n",
       "      <td>21.8</td>\n",
       "      <td>10.0</td>\n",
       "      <td>2.2</td>\n",
       "      <td>1273</td>\n",
       "      <td>876123161</td>\n",
       "      <td>14.9</td>\n",
       "      <td>14</td>\n",
       "      <td>30.1</td>\n",
       "      <td>Medium</td>\n",
       "      <td>8.761232e+09</td>\n",
       "    </tr>\n",
       "    <tr>\n",
       "      <th>997</th>\n",
       "      <td>2019</td>\n",
       "      <td>Argentina</td>\n",
       "      <td>23.8</td>\n",
       "      <td>8.9</td>\n",
       "      <td>4.7</td>\n",
       "      <td>891</td>\n",
       "      <td>1120533308</td>\n",
       "      <td>25.9</td>\n",
       "      <td>10</td>\n",
       "      <td>46.5</td>\n",
       "      <td>Large</td>\n",
       "      <td>9.972746e+09</td>\n",
       "    </tr>\n",
       "    <tr>\n",
       "      <th>998</th>\n",
       "      <td>2016</td>\n",
       "      <td>Australia</td>\n",
       "      <td>21.0</td>\n",
       "      <td>14.9</td>\n",
       "      <td>3.1</td>\n",
       "      <td>1136</td>\n",
       "      <td>380662109</td>\n",
       "      <td>24.5</td>\n",
       "      <td>3</td>\n",
       "      <td>44.5</td>\n",
       "      <td>Medium</td>\n",
       "      <td>5.671865e+09</td>\n",
       "    </tr>\n",
       "    <tr>\n",
       "      <th>999</th>\n",
       "      <td>2011</td>\n",
       "      <td>Germany</td>\n",
       "      <td>24.1</td>\n",
       "      <td>17.3</td>\n",
       "      <td>2.1</td>\n",
       "      <td>2854</td>\n",
       "      <td>398407112</td>\n",
       "      <td>41.0</td>\n",
       "      <td>3</td>\n",
       "      <td>19.8</td>\n",
       "      <td>Medium</td>\n",
       "      <td>6.892443e+09</td>\n",
       "    </tr>\n",
       "  </tbody>\n",
       "</table>\n",
       "<p>1000 rows × 12 columns</p>\n",
       "</div>"
      ],
      "text/plain": [
       "     Year    Country  Avg_Temperature_degC  CO2_Emissions_tons_per_capita  \\\n",
       "0    2006         UK                   8.9                            9.3   \n",
       "1    2019        USA                  31.0                            4.8   \n",
       "2    2014     France                  33.9                            2.8   \n",
       "3    2010  Argentina                   5.9                            1.8   \n",
       "4    2007    Germany                  26.9                            5.6   \n",
       "..    ...        ...                   ...                            ...   \n",
       "995  2019      India                  23.6                            8.0   \n",
       "996  2000         UK                  21.8                           10.0   \n",
       "997  2019  Argentina                  23.8                            8.9   \n",
       "998  2016  Australia                  21.0                           14.9   \n",
       "999  2011    Germany                  24.1                           17.3   \n",
       "\n",
       "     Sea_Level_Rise_mm  Rainfall_mm  Population  Renewable_Energy_pct  \\\n",
       "0                  3.1         1441   530911230                  20.4   \n",
       "1                  4.2         2407   107364344                  49.2   \n",
       "2                  2.2         1241   441101758                  33.3   \n",
       "3                  3.2         1892  1069669579                  23.7   \n",
       "4                  2.4         1743   124079175                  12.5   \n",
       "..                 ...          ...         ...                   ...   \n",
       "995                1.2         1365  1358019778                  10.0   \n",
       "996                2.2         1273   876123161                  14.9   \n",
       "997                4.7          891  1120533308                  25.9   \n",
       "998                3.1         1136   380662109                  24.5   \n",
       "999                2.1         2854   398407112                  41.0   \n",
       "\n",
       "     Extreme_Weather_Events  Forest_Area_pct Population Size  \\\n",
       "0                        14             59.8          Medium   \n",
       "1                         8             31.0           Small   \n",
       "2                         9             35.5          Medium   \n",
       "3                         7             17.7          Medium   \n",
       "4                         4             17.4           Small   \n",
       "..                      ...              ...             ...   \n",
       "995                       8             20.2           Large   \n",
       "996                      14             30.1          Medium   \n",
       "997                      10             46.5           Large   \n",
       "998                       3             44.5          Medium   \n",
       "999                       3             19.8          Medium   \n",
       "\n",
       "     Total C02 Emissions (tons)  \n",
       "0                  4.937474e+09  \n",
       "1                  5.153489e+08  \n",
       "2                  1.235085e+09  \n",
       "3                  1.925405e+09  \n",
       "4                  6.948434e+08  \n",
       "..                          ...  \n",
       "995                1.086416e+10  \n",
       "996                8.761232e+09  \n",
       "997                9.972746e+09  \n",
       "998                5.671865e+09  \n",
       "999                6.892443e+09  \n",
       "\n",
       "[1000 rows x 12 columns]"
      ]
     },
     "execution_count": 478,
     "metadata": {},
     "output_type": "execute_result"
    }
   ],
   "source": [
    "def classify_population(population): # define a user-defined function with the def Python feature \n",
    "    if population <= 3.436242e+08: # use loop-based logic to establish a minimum from the Population column\n",
    "        return 'Small' # if the number is less than or equal to the minimum, it will be a small population \n",
    "    elif population <= 1.073868e+09: # use elif function to create additional if statements for the loop\n",
    "        return 'Medium' # using the median of the Population column\n",
    "    else:\n",
    "        return 'Large' # all else, meaning above the interquartile range (IQR) of the Population column, will be large\n",
    "\n",
    "# create a new column that organizes existing data from the Population column with this new function\n",
    "df_new['Population Size'] = df_new['Population'].apply(classify_population) # apply user-defined function to the Population column\n",
    "df_new # print for reference"
   ]
  },
  {
   "cell_type": "markdown",
   "id": "bd12b589-92e2-4135-9b27-2f6555f09093",
   "metadata": {},
   "source": [
    "**What it does:** \n",
    "* Classifies each country by population size\n",
    "\n",
    "**Why it helps:**\n",
    "* Makes populations of each country easy to compare in relation to each other (based on the summary statistics of the all populations in the dataset)\n",
    "* Because the Populations column consists of such large numbers without commas, it is difficult to make comparisons"
   ]
  },
  {
   "cell_type": "code",
   "execution_count": 480,
   "id": "0fd30731-6c38-4a6a-9096-f119ce9fde18",
   "metadata": {},
   "outputs": [
    {
     "name": "stdout",
     "output_type": "stream",
     "text": [
      "Unique value counts for Population Size:\n",
      "\n"
     ]
    },
    {
     "data": {
      "text/plain": [
       "Population Size\n",
       "Medium    500\n",
       "Small     250\n",
       "Large     250\n",
       "Name: count, dtype: int64"
      ]
     },
     "execution_count": 480,
     "metadata": {},
     "output_type": "execute_result"
    }
   ],
   "source": [
    "print('Unique value counts for Population Size:\\n')\n",
    "df_new['Population Size'].value_counts()"
   ]
  },
  {
   "cell_type": "markdown",
   "id": "af3a41ca-ce63-4703-9c8e-ba2def04aad6",
   "metadata": {},
   "source": [
    "**Interpretation:**\n",
    "* The majority (half) of the data is from countries with population sizes average/ medium in comparison to all populations in the dataset\n",
    "* One fourth of the data is from smaller polulations (relative to the dataset)\n",
    "* One fourth of the data is from larger populations (relative to the dataset)\n",
    "* **take into account that there are only 14 countries, and the unique values of the Country column shows that they are not evenly accounted for in each year**\n",
    "\n",
    "**Why it matters:**\n",
    "* **It shows the proportion of population sizes in relation to each other**\n",
    "* the size of the country matters in relation to other columns such as CO2 emissions and Forest Area"
   ]
  },
  {
   "cell_type": "code",
   "execution_count": 440,
   "id": "f414e8e8-b261-45e9-9e1f-faa29f3ba696",
   "metadata": {},
   "outputs": [
    {
     "name": "stdout",
     "output_type": "stream",
     "text": [
      "CO2 Emissions by Population Size:\n",
      "\n"
     ]
    },
    {
     "data": {
      "text/html": [
       "<div>\n",
       "<style scoped>\n",
       "    .dataframe tbody tr th:only-of-type {\n",
       "        vertical-align: middle;\n",
       "    }\n",
       "\n",
       "    .dataframe tbody tr th {\n",
       "        vertical-align: top;\n",
       "    }\n",
       "\n",
       "    .dataframe thead th {\n",
       "        text-align: right;\n",
       "    }\n",
       "</style>\n",
       "<table border=\"1\" class=\"dataframe\">\n",
       "  <thead>\n",
       "    <tr style=\"text-align: right;\">\n",
       "      <th></th>\n",
       "      <th>Population Size</th>\n",
       "      <th>CO2 Emissions (tons/capita)</th>\n",
       "    </tr>\n",
       "  </thead>\n",
       "  <tbody>\n",
       "    <tr>\n",
       "      <th>0</th>\n",
       "      <td>Large</td>\n",
       "      <td>10.3924</td>\n",
       "    </tr>\n",
       "    <tr>\n",
       "      <th>1</th>\n",
       "      <td>Medium</td>\n",
       "      <td>10.3594</td>\n",
       "    </tr>\n",
       "    <tr>\n",
       "      <th>2</th>\n",
       "      <td>Small</td>\n",
       "      <td>10.5920</td>\n",
       "    </tr>\n",
       "  </tbody>\n",
       "</table>\n",
       "</div>"
      ],
      "text/plain": [
       "  Population Size  CO2 Emissions (tons/capita)\n",
       "0           Large                      10.3924\n",
       "1          Medium                      10.3594\n",
       "2           Small                      10.5920"
      ]
     },
     "execution_count": 440,
     "metadata": {},
     "output_type": "execute_result"
    }
   ],
   "source": [
    "# create a filter to see the average C02 emissions of each population size \n",
    "co2_by_size = df_new.groupby('Population Size')['CO2_Emissions_tons_per_capita'].mean().reset_index(name='CO2 Emissions (tons/capita)')\n",
    "\n",
    "print('CO2 Emissions by Population Size:\\n')\n",
    "co2_by_size "
   ]
  },
  {
   "cell_type": "markdown",
   "id": "14288c98-e655-4444-acef-06581adf65a7",
   "metadata": {},
   "source": [
    "**Interpretation:**\n",
    "* Nearly an even distribution of tons per capita across all population sizes\n",
    "* countries with smaller population sizes in relation to the dataset produce the most carbon dioxide emissions by a small amount\n",
    "  - however, this small amount is significant in that it adds up when multiplied by the population \n",
    "\n",
    "**Why it matters:**\n",
    "* shows that **population size is not a major defining factor of the average C02 emissions per capita** produced by countries"
   ]
  },
  {
   "cell_type": "code",
   "execution_count": 379,
   "id": "0124188a-0a0e-431f-bf38-f31fefb84291",
   "metadata": {},
   "outputs": [
    {
     "data": {
      "text/html": [
       "<div>\n",
       "<style scoped>\n",
       "    .dataframe tbody tr th:only-of-type {\n",
       "        vertical-align: middle;\n",
       "    }\n",
       "\n",
       "    .dataframe tbody tr th {\n",
       "        vertical-align: top;\n",
       "    }\n",
       "\n",
       "    .dataframe thead th {\n",
       "        text-align: right;\n",
       "    }\n",
       "</style>\n",
       "<table border=\"1\" class=\"dataframe\">\n",
       "  <thead>\n",
       "    <tr style=\"text-align: right;\">\n",
       "      <th></th>\n",
       "      <th>Year</th>\n",
       "      <th>Country</th>\n",
       "      <th>Avg_Temperature_degC</th>\n",
       "      <th>CO2_Emissions_tons_per_capita</th>\n",
       "      <th>Sea_Level_Rise_mm</th>\n",
       "      <th>Rainfall_mm</th>\n",
       "      <th>Population</th>\n",
       "      <th>Renewable_Energy_pct</th>\n",
       "      <th>Extreme_Weather_Events</th>\n",
       "      <th>Forest_Area_pct</th>\n",
       "      <th>Population Size</th>\n",
       "      <th>Total C02 Emissions (tons)</th>\n",
       "    </tr>\n",
       "  </thead>\n",
       "  <tbody>\n",
       "    <tr>\n",
       "      <th>0</th>\n",
       "      <td>2006</td>\n",
       "      <td>UK</td>\n",
       "      <td>8.9</td>\n",
       "      <td>9.3</td>\n",
       "      <td>3.1</td>\n",
       "      <td>1441</td>\n",
       "      <td>530911230</td>\n",
       "      <td>20.4</td>\n",
       "      <td>14</td>\n",
       "      <td>59.8</td>\n",
       "      <td>Medium</td>\n",
       "      <td>4.937474e+09</td>\n",
       "    </tr>\n",
       "    <tr>\n",
       "      <th>1</th>\n",
       "      <td>2019</td>\n",
       "      <td>USA</td>\n",
       "      <td>31.0</td>\n",
       "      <td>4.8</td>\n",
       "      <td>4.2</td>\n",
       "      <td>2407</td>\n",
       "      <td>107364344</td>\n",
       "      <td>49.2</td>\n",
       "      <td>8</td>\n",
       "      <td>31.0</td>\n",
       "      <td>Small</td>\n",
       "      <td>5.153489e+08</td>\n",
       "    </tr>\n",
       "    <tr>\n",
       "      <th>2</th>\n",
       "      <td>2014</td>\n",
       "      <td>France</td>\n",
       "      <td>33.9</td>\n",
       "      <td>2.8</td>\n",
       "      <td>2.2</td>\n",
       "      <td>1241</td>\n",
       "      <td>441101758</td>\n",
       "      <td>33.3</td>\n",
       "      <td>9</td>\n",
       "      <td>35.5</td>\n",
       "      <td>Medium</td>\n",
       "      <td>1.235085e+09</td>\n",
       "    </tr>\n",
       "    <tr>\n",
       "      <th>3</th>\n",
       "      <td>2010</td>\n",
       "      <td>Argentina</td>\n",
       "      <td>5.9</td>\n",
       "      <td>1.8</td>\n",
       "      <td>3.2</td>\n",
       "      <td>1892</td>\n",
       "      <td>1069669579</td>\n",
       "      <td>23.7</td>\n",
       "      <td>7</td>\n",
       "      <td>17.7</td>\n",
       "      <td>Medium</td>\n",
       "      <td>1.925405e+09</td>\n",
       "    </tr>\n",
       "    <tr>\n",
       "      <th>4</th>\n",
       "      <td>2007</td>\n",
       "      <td>Germany</td>\n",
       "      <td>26.9</td>\n",
       "      <td>5.6</td>\n",
       "      <td>2.4</td>\n",
       "      <td>1743</td>\n",
       "      <td>124079175</td>\n",
       "      <td>12.5</td>\n",
       "      <td>4</td>\n",
       "      <td>17.4</td>\n",
       "      <td>Small</td>\n",
       "      <td>6.948434e+08</td>\n",
       "    </tr>\n",
       "    <tr>\n",
       "      <th>...</th>\n",
       "      <td>...</td>\n",
       "      <td>...</td>\n",
       "      <td>...</td>\n",
       "      <td>...</td>\n",
       "      <td>...</td>\n",
       "      <td>...</td>\n",
       "      <td>...</td>\n",
       "      <td>...</td>\n",
       "      <td>...</td>\n",
       "      <td>...</td>\n",
       "      <td>...</td>\n",
       "      <td>...</td>\n",
       "    </tr>\n",
       "    <tr>\n",
       "      <th>995</th>\n",
       "      <td>2019</td>\n",
       "      <td>India</td>\n",
       "      <td>23.6</td>\n",
       "      <td>8.0</td>\n",
       "      <td>1.2</td>\n",
       "      <td>1365</td>\n",
       "      <td>1358019778</td>\n",
       "      <td>10.0</td>\n",
       "      <td>8</td>\n",
       "      <td>20.2</td>\n",
       "      <td>Large</td>\n",
       "      <td>1.086416e+10</td>\n",
       "    </tr>\n",
       "    <tr>\n",
       "      <th>996</th>\n",
       "      <td>2000</td>\n",
       "      <td>UK</td>\n",
       "      <td>21.8</td>\n",
       "      <td>10.0</td>\n",
       "      <td>2.2</td>\n",
       "      <td>1273</td>\n",
       "      <td>876123161</td>\n",
       "      <td>14.9</td>\n",
       "      <td>14</td>\n",
       "      <td>30.1</td>\n",
       "      <td>Medium</td>\n",
       "      <td>8.761232e+09</td>\n",
       "    </tr>\n",
       "    <tr>\n",
       "      <th>997</th>\n",
       "      <td>2019</td>\n",
       "      <td>Argentina</td>\n",
       "      <td>23.8</td>\n",
       "      <td>8.9</td>\n",
       "      <td>4.7</td>\n",
       "      <td>891</td>\n",
       "      <td>1120533308</td>\n",
       "      <td>25.9</td>\n",
       "      <td>10</td>\n",
       "      <td>46.5</td>\n",
       "      <td>Large</td>\n",
       "      <td>9.972746e+09</td>\n",
       "    </tr>\n",
       "    <tr>\n",
       "      <th>998</th>\n",
       "      <td>2016</td>\n",
       "      <td>Australia</td>\n",
       "      <td>21.0</td>\n",
       "      <td>14.9</td>\n",
       "      <td>3.1</td>\n",
       "      <td>1136</td>\n",
       "      <td>380662109</td>\n",
       "      <td>24.5</td>\n",
       "      <td>3</td>\n",
       "      <td>44.5</td>\n",
       "      <td>Medium</td>\n",
       "      <td>5.671865e+09</td>\n",
       "    </tr>\n",
       "    <tr>\n",
       "      <th>999</th>\n",
       "      <td>2011</td>\n",
       "      <td>Germany</td>\n",
       "      <td>24.1</td>\n",
       "      <td>17.3</td>\n",
       "      <td>2.1</td>\n",
       "      <td>2854</td>\n",
       "      <td>398407112</td>\n",
       "      <td>41.0</td>\n",
       "      <td>3</td>\n",
       "      <td>19.8</td>\n",
       "      <td>Medium</td>\n",
       "      <td>6.892443e+09</td>\n",
       "    </tr>\n",
       "  </tbody>\n",
       "</table>\n",
       "<p>1000 rows × 12 columns</p>\n",
       "</div>"
      ],
      "text/plain": [
       "     Year    Country  Avg_Temperature_degC  CO2_Emissions_tons_per_capita  \\\n",
       "0    2006         UK                   8.9                            9.3   \n",
       "1    2019        USA                  31.0                            4.8   \n",
       "2    2014     France                  33.9                            2.8   \n",
       "3    2010  Argentina                   5.9                            1.8   \n",
       "4    2007    Germany                  26.9                            5.6   \n",
       "..    ...        ...                   ...                            ...   \n",
       "995  2019      India                  23.6                            8.0   \n",
       "996  2000         UK                  21.8                           10.0   \n",
       "997  2019  Argentina                  23.8                            8.9   \n",
       "998  2016  Australia                  21.0                           14.9   \n",
       "999  2011    Germany                  24.1                           17.3   \n",
       "\n",
       "     Sea_Level_Rise_mm  Rainfall_mm  Population  Renewable_Energy_pct  \\\n",
       "0                  3.1         1441   530911230                  20.4   \n",
       "1                  4.2         2407   107364344                  49.2   \n",
       "2                  2.2         1241   441101758                  33.3   \n",
       "3                  3.2         1892  1069669579                  23.7   \n",
       "4                  2.4         1743   124079175                  12.5   \n",
       "..                 ...          ...         ...                   ...   \n",
       "995                1.2         1365  1358019778                  10.0   \n",
       "996                2.2         1273   876123161                  14.9   \n",
       "997                4.7          891  1120533308                  25.9   \n",
       "998                3.1         1136   380662109                  24.5   \n",
       "999                2.1         2854   398407112                  41.0   \n",
       "\n",
       "     Extreme_Weather_Events  Forest_Area_pct Population Size  \\\n",
       "0                        14             59.8          Medium   \n",
       "1                         8             31.0           Small   \n",
       "2                         9             35.5          Medium   \n",
       "3                         7             17.7          Medium   \n",
       "4                         4             17.4           Small   \n",
       "..                      ...              ...             ...   \n",
       "995                       8             20.2           Large   \n",
       "996                      14             30.1          Medium   \n",
       "997                      10             46.5           Large   \n",
       "998                       3             44.5          Medium   \n",
       "999                       3             19.8          Medium   \n",
       "\n",
       "     Total C02 Emissions (tons)  \n",
       "0                  4.937474e+09  \n",
       "1                  5.153489e+08  \n",
       "2                  1.235085e+09  \n",
       "3                  1.925405e+09  \n",
       "4                  6.948434e+08  \n",
       "..                          ...  \n",
       "995                1.086416e+10  \n",
       "996                8.761232e+09  \n",
       "997                9.972746e+09  \n",
       "998                5.671865e+09  \n",
       "999                6.892443e+09  \n",
       "\n",
       "[1000 rows x 12 columns]"
      ]
     },
     "execution_count": 379,
     "metadata": {},
     "output_type": "execute_result"
    }
   ],
   "source": [
    "# creating a new column to calculate the total tons by multiplying the Population column and the C02 emissions (tons/capita) column\n",
    "df_new['Total C02 Emissions (tons)'] = df_new['CO2_Emissions_tons_per_capita']* df_new['Population']\n",
    "df_new # print the dataframe for reference "
   ]
  },
  {
   "cell_type": "markdown",
   "id": "4853a118-2f44-4d97-b453-52f13251b4cb",
   "metadata": {},
   "source": [
    "**What it does:**\n",
    "* Shows the total C02 emissions of each country \n",
    "\n",
    "**Why it helps:** \n",
    "* Just for reference of the total amount of C02 emissions in tons for each country, in comparison to the standardized metric by person\n",
    "* More information to contextualize the available data "
   ]
  },
  {
   "cell_type": "code",
   "execution_count": 442,
   "id": "9ac86f26-4f62-4b84-bbe6-1a7f4993f80a",
   "metadata": {},
   "outputs": [
    {
     "name": "stdout",
     "output_type": "stream",
     "text": [
      "Total C02 Emissions by Population Size:\n",
      "\n"
     ]
    },
    {
     "data": {
      "text/html": [
       "<div>\n",
       "<style scoped>\n",
       "    .dataframe tbody tr th:only-of-type {\n",
       "        vertical-align: middle;\n",
       "    }\n",
       "\n",
       "    .dataframe tbody tr th {\n",
       "        vertical-align: top;\n",
       "    }\n",
       "\n",
       "    .dataframe thead th {\n",
       "        text-align: right;\n",
       "    }\n",
       "</style>\n",
       "<table border=\"1\" class=\"dataframe\">\n",
       "  <thead>\n",
       "    <tr style=\"text-align: right;\">\n",
       "      <th></th>\n",
       "      <th>Population Size</th>\n",
       "      <th>Total C02 Emissions (tons)</th>\n",
       "    </tr>\n",
       "  </thead>\n",
       "  <tbody>\n",
       "    <tr>\n",
       "      <th>0</th>\n",
       "      <td>Large</td>\n",
       "      <td>1.279933e+10</td>\n",
       "    </tr>\n",
       "    <tr>\n",
       "      <th>1</th>\n",
       "      <td>Medium</td>\n",
       "      <td>7.404640e+09</td>\n",
       "    </tr>\n",
       "    <tr>\n",
       "      <th>2</th>\n",
       "      <td>Small</td>\n",
       "      <td>1.914016e+09</td>\n",
       "    </tr>\n",
       "  </tbody>\n",
       "</table>\n",
       "</div>"
      ],
      "text/plain": [
       "  Population Size  Total C02 Emissions (tons)\n",
       "0           Large                1.279933e+10\n",
       "1          Medium                7.404640e+09\n",
       "2           Small                1.914016e+09"
      ]
     },
     "execution_count": 442,
     "metadata": {},
     "output_type": "execute_result"
    }
   ],
   "source": [
    "# use the total C02 emissions column to see the average total of each population size \n",
    "total_CO2_by_size = df_new.groupby('Population Size')['Total C02 Emissions (tons)'].mean().reset_index(name = 'Total C02 Emissions (tons)')\n",
    "\n",
    "print('Total C02 Emissions by Population Size:\\n')\n",
    "total_CO2_by_size "
   ]
  },
  {
   "cell_type": "markdown",
   "id": "2247f4a3-74ff-4b31-a9ed-7b7a59f54569",
   "metadata": {},
   "source": [
    "**Interpretation:** \n",
    "* Larger countries produced an average total of nearly 12.8 billion tons of C02 emissions\n",
    "* Medium countries produced an average total of about 7.4 billion tons of C02 emissions\n",
    "* Smaller countries produced an average total of about 1.9 billion tons of CO2 emissions\n",
    "\n",
    "**Why it matters:**\n",
    "* Demonstrates the difficulty in comparing CO2 emissions meaningfully without a standardized metric of measurement to account for the population size"
   ]
  },
  {
   "cell_type": "markdown",
   "id": "a84b01e8-365d-4709-b32b-d1a566b3cc65",
   "metadata": {},
   "source": [
    "---"
   ]
  },
  {
   "cell_type": "markdown",
   "id": "2262b32e-44c0-408b-bb60-de8a229a4cd6",
   "metadata": {},
   "source": [
    "### **SECTION IV: OBSERVATIONS & QUESTIONS**\n",
    "9. Highlight 1–2 key takeaways or patterns from your descriptive analysis.\n",
    "10. Suggest 2 questions you would explore further in Part 2 using visualization.\n"
   ]
  },
  {
   "cell_type": "markdown",
   "id": "9379bf4f-c159-4316-af5e-54c3a1165d25",
   "metadata": {},
   "source": [
    "**Key takeaways from this descriptive analysis:**\n",
    "* It was a bit difficult finding relationships between the columns, except for population, year, country, and C02 emissions. I learned that population size does not necessarily impact the average C02 emissions produced by the 14 countries, surprisingly\n",
    "* There seems to be more importance in each country having a unique unity of factors that define its relationship to the global climate "
   ]
  },
  {
   "cell_type": "markdown",
   "id": "c1060df6-7318-4d23-8b8b-9564c2ebd318",
   "metadata": {},
   "source": [
    "**Questions for further analysis using visualization:**\n",
    "* How can the columns that were not analyzed (such as sea level rise, temperature, extreme weather events) be meaningfully engaged to create a more effective understanding of the changing natural conditions unique to each of the 14 countries? Could I instead find more commonality than difference between them all?\n",
    "* Could I illustrate the relationship between human impacts (such as industrial activity causing C02 emissions or population) and natural environment changes (temperature or forest area) through visual representation?"
   ]
  },
  {
   "cell_type": "markdown",
   "id": "e5fe5486-860e-475f-a256-b552dd101baf",
   "metadata": {},
   "source": [
    "---"
   ]
  },
  {
   "cell_type": "markdown",
   "id": "d2f17a55-939e-4fbf-8b6e-80f3545863a2",
   "metadata": {},
   "source": [
    "### **Conclusion:**\n",
    "The 14 countries included in the dataset all seem to have an impact on the environment relative to each other. From a descriptive analysis mainly focused on C02 emissions and population size, each grouping was relatively in balance with the others. This is likely attributed to the use of broad groupings and mean values to describe them. This was purely based on a need to cross-analyze between columns with the available information given. It was difficult to find relationships of direct or inverse variation between the columns because there were few with commonly known correlation between them. This could also require some expertise on environmental impact studies. However, visualization may help in viewing the unique environmenal situations of each country in relation to each other. "
   ]
  }
 ],
 "metadata": {
  "kernelspec": {
   "display_name": "Python [conda env:base] *",
   "language": "python",
   "name": "conda-base-py"
  },
  "language_info": {
   "codemirror_mode": {
    "name": "ipython",
    "version": 3
   },
   "file_extension": ".py",
   "mimetype": "text/x-python",
   "name": "python",
   "nbconvert_exporter": "python",
   "pygments_lexer": "ipython3",
   "version": "3.12.7"
  }
 },
 "nbformat": 4,
 "nbformat_minor": 5
}
